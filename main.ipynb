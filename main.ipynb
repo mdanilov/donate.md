{
 "cells": [
  {
   "cell_type": "code",
   "execution_count": 12,
   "id": "fbc4096f",
   "metadata": {},
   "outputs": [],
   "source": [
    "from pathlib import Path\n",
    "import segno\n",
    "import slugify"
   ]
  },
  {
   "cell_type": "code",
   "execution_count": 13,
   "id": "59e29436",
   "metadata": {},
   "outputs": [],
   "source": [
    "save_dir = Path(\"./docs\")\n",
    "\n",
    "save_dir.mkdir(exist_ok=True, parents=True)\n",
    "(save_dir / \"qrcodes\").mkdir(exist_ok=True, parents=True)"
   ]
  },
  {
   "cell_type": "code",
   "execution_count": 14,
   "id": "7d6b1dbe",
   "metadata": {},
   "outputs": [],
   "source": [
    "# add your crypto addresses here\n",
    "crypto_items = [\n",
    "    {\n",
    "        \"name\": \"ETH\",\n",
    "        \"address\": \"0xa71a61a783c747a98eF8311ee2B735D4Dbb0F230\"\n",
    "    },\n",
    "    \n",
    "    {\n",
    "        \"name\": \"BNB (BSC-20)\",\n",
    "        \"address\": \"0xa71a61a783c747a98eF8311ee2B735D4Dbb0F230\"\n",
    "    },\n",
    "]"
   ]
  },
  {
   "cell_type": "markdown",
   "id": "d38f418a",
   "metadata": {},
   "source": [
    "### Generate QR-codes"
   ]
  },
  {
   "cell_type": "code",
   "execution_count": 15,
   "id": "68b7dffe",
   "metadata": {},
   "outputs": [],
   "source": [
    "for crypto_item in crypto_items:\n",
    "    qrcode_filename = f\"{slugify.slugify(crypto_item['name'], separator='_')}.png\"\n",
    "    crypto_item[\"qrcode_filename\"] = qrcode_filename\n",
    "    \n",
    "    qrcode = segno.make(crypto_item[\"address\"])\n",
    "    qrcode.save(\n",
    "        save_dir / \"qrcodes\" / qrcode_filename,\n",
    "        dark='black',\n",
    "        light='96CEF5',\n",
    "        border=2,\n",
    "        scale=7\n",
    "    )"
   ]
  },
  {
   "cell_type": "markdown",
   "id": "fb57b544",
   "metadata": {},
   "source": [
    "### Generate .md"
   ]
  },
  {
   "cell_type": "code",
   "execution_count": 16,
   "id": "149c3c8f",
   "metadata": {},
   "outputs": [],
   "source": [
    "md_text = \"\"\n",
    "\n",
    "item_md_template = \"\"\"# {name}\n",
    "\n",
    "Address: `{address}`\n",
    "\n",
    "Scan it with your crypto wallet:\n",
    "\n",
    "![{name} QR code](qrcodes/{qrcode_filename})\n",
    "\n",
    "\"\"\"\n",
    "\n",
    "for crypto_item in crypto_items:\n",
    "    md_text += item_md_template.format(\n",
    "        name=crypto_item[\"name\"],\n",
    "        address=crypto_item[\"address\"],\n",
    "        qrcode_filename=crypto_item[\"qrcode_filename\"]\n",
    "    )\n",
    "    \n",
    "with open(save_dir / \"donate.md\", \"w\") as f:\n",
    "    f.write(md_text)"
   ]
  },
  {
   "cell_type": "markdown",
   "id": "1606d413",
   "metadata": {},
   "source": [
    "---"
   ]
  }
 ],
 "metadata": {
  "kernelspec": {
   "display_name": "Python 3 (ipykernel)",
   "language": "python",
   "name": "python3"
  },
  "language_info": {
   "codemirror_mode": {
    "name": "ipython",
    "version": 3
   },
   "file_extension": ".py",
   "mimetype": "text/x-python",
   "name": "python",
   "nbconvert_exporter": "python",
   "pygments_lexer": "ipython3",
   "version": "3.12.5"
  }
 },
 "nbformat": 4,
 "nbformat_minor": 5
}
